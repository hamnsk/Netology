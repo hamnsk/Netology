{
 "cells": [
  {
   "cell_type": "code",
   "execution_count": 215,
   "metadata": {
    "collapsed": true
   },
   "outputs": [],
   "source": [
    "import requests\n",
    "import re\n",
    "import time\n",
    "import pandas as pd\n",
    "import matplotlib.pyplot as plt\n",
    "from scipy.cluster.vq import whiten, kmeans2\n",
    "\n",
    "%matplotlib inline\n"
   ]
  },
  {
   "cell_type": "code",
   "execution_count": 216,
   "metadata": {
    "collapsed": false
   },
   "outputs": [],
   "source": [
    "def fetch_data_from_api(url, return_key):\n",
    "    try:\n",
    "        json = requests.get(url, headers = { 'X-Auth-Token': '60d36b0e50804b7f8bf4d14aaf9a2633' }).json()\n",
    "        return json[return_key]\n",
    "    except:\n",
    "        return None"
   ]
  },
  {
   "cell_type": "code",
   "execution_count": 217,
   "metadata": {
    "collapsed": false
   },
   "outputs": [],
   "source": [
    "def teams_generator(competitions):\n",
    "    for competition in competitions:\n",
    "        data_url = competition['_links']['teams']['href']\n",
    "        teams = fetch_data_from_api(data_url, 'teams')\n",
    "        yield teams"
   ]
  },
  {
   "cell_type": "code",
   "execution_count": 218,
   "metadata": {
    "collapsed": false
   },
   "outputs": [],
   "source": [
    "competitions = requests.get('http://api.football-data.org/v1/competitions/?season=2016', headers = { 'X-Auth-Token': '60d36b0e50804b7f8bf4d14aaf9a2633' }).json()"
   ]
  },
  {
   "cell_type": "code",
   "execution_count": 239,
   "metadata": {
    "collapsed": false
   },
   "outputs": [],
   "source": [
    "teams_all = list(teams_generator(competitions))\n",
    "teams_all = teams_all[:2]"
   ]
  },
  {
   "cell_type": "code",
   "execution_count": 240,
   "metadata": {
    "collapsed": false
   },
   "outputs": [],
   "source": [
    "team_for_pd = []\n",
    "for team_set in teams_all:\n",
    "    for team in team_set:\n",
    "        if team['squadMarketValue']:\n",
    "            squadMarketValue = team['squadMarketValue']\n",
    "            squadMarketValue, _ = squadMarketValue.split()\n",
    "            squadMarketValue = int(re.sub(',', '', squadMarketValue))\n",
    "            fixtures = fetch_data_from_api(team['_links']['fixtures']['href'], 'fixtures')\n",
    "            missedGoals = 0\n",
    "            if fixtures:\n",
    "                for f in fixtures:\n",
    "                    if team['name'] == f['homeTeamName']:\n",
    "                        missedGoals += f['result']['goalsAwayTeam'] if f['result']['goalsAwayTeam'] else 0\n",
    "                    else:\n",
    "                        missedGoals += f['result']['goalsHomeTeam'] if f['result']['goalsHomeTeam'] else 0\n",
    "            team_for_pd.append({'name': team['name'], 'missedGoals': missedGoals, 'squadMarketValue': squadMarketValue})"
   ]
  },
  {
   "cell_type": "code",
   "execution_count": 241,
   "metadata": {
    "collapsed": false
   },
   "outputs": [
    {
     "data": {
      "text/html": [
       "<div>\n",
       "<table border=\"1\" class=\"dataframe\">\n",
       "  <thead>\n",
       "    <tr style=\"text-align: right;\">\n",
       "      <th></th>\n",
       "      <th>missedGoals</th>\n",
       "      <th>name</th>\n",
       "      <th>squadMarketValue</th>\n",
       "    </tr>\n",
       "  </thead>\n",
       "  <tbody>\n",
       "    <tr>\n",
       "      <th>0</th>\n",
       "      <td>71</td>\n",
       "      <td>Hull City FC</td>\n",
       "      <td>122250000</td>\n",
       "    </tr>\n",
       "    <tr>\n",
       "      <th>1</th>\n",
       "      <td>69</td>\n",
       "      <td>Leicester City FC</td>\n",
       "      <td>205300000</td>\n",
       "    </tr>\n",
       "    <tr>\n",
       "      <th>2</th>\n",
       "      <td>51</td>\n",
       "      <td>Southampton FC</td>\n",
       "      <td>230500000</td>\n",
       "    </tr>\n",
       "    <tr>\n",
       "      <th>3</th>\n",
       "      <td>55</td>\n",
       "      <td>Watford FC</td>\n",
       "      <td>127250000</td>\n",
       "    </tr>\n",
       "    <tr>\n",
       "      <th>4</th>\n",
       "      <td>47</td>\n",
       "      <td>Middlesbrough FC</td>\n",
       "      <td>99500000</td>\n",
       "    </tr>\n",
       "    <tr>\n",
       "      <th>5</th>\n",
       "      <td>52</td>\n",
       "      <td>Stoke City FC</td>\n",
       "      <td>168250000</td>\n",
       "    </tr>\n",
       "    <tr>\n",
       "      <th>6</th>\n",
       "      <td>39</td>\n",
       "      <td>Everton FC</td>\n",
       "      <td>249100000</td>\n",
       "    </tr>\n",
       "    <tr>\n",
       "      <th>7</th>\n",
       "      <td>35</td>\n",
       "      <td>Tottenham Hotspur FC</td>\n",
       "      <td>429000000</td>\n",
       "    </tr>\n",
       "    <tr>\n",
       "      <th>8</th>\n",
       "      <td>58</td>\n",
       "      <td>Crystal Palace FC</td>\n",
       "      <td>186500000</td>\n",
       "    </tr>\n",
       "    <tr>\n",
       "      <th>9</th>\n",
       "      <td>44</td>\n",
       "      <td>West Bromwich Albion FC</td>\n",
       "      <td>98600000</td>\n",
       "    </tr>\n",
       "    <tr>\n",
       "      <th>10</th>\n",
       "      <td>50</td>\n",
       "      <td>Burnley FC</td>\n",
       "      <td>85000000</td>\n",
       "    </tr>\n",
       "    <tr>\n",
       "      <th>11</th>\n",
       "      <td>70</td>\n",
       "      <td>Swansea City FC</td>\n",
       "      <td>127600000</td>\n",
       "    </tr>\n",
       "    <tr>\n",
       "      <th>12</th>\n",
       "      <td>52</td>\n",
       "      <td>Manchester City FC</td>\n",
       "      <td>525250000</td>\n",
       "    </tr>\n",
       "    <tr>\n",
       "      <th>13</th>\n",
       "      <td>61</td>\n",
       "      <td>Sunderland AFC</td>\n",
       "      <td>102000000</td>\n",
       "    </tr>\n",
       "    <tr>\n",
       "      <th>14</th>\n",
       "      <td>66</td>\n",
       "      <td>AFC Bournemouth</td>\n",
       "      <td>106000000</td>\n",
       "    </tr>\n",
       "    <tr>\n",
       "      <th>15</th>\n",
       "      <td>26</td>\n",
       "      <td>Manchester United FC</td>\n",
       "      <td>466000000</td>\n",
       "    </tr>\n",
       "    <tr>\n",
       "      <th>16</th>\n",
       "      <td>57</td>\n",
       "      <td>Arsenal FC</td>\n",
       "      <td>492500000</td>\n",
       "    </tr>\n",
       "    <tr>\n",
       "      <th>17</th>\n",
       "      <td>44</td>\n",
       "      <td>Liverpool FC</td>\n",
       "      <td>372200000</td>\n",
       "    </tr>\n",
       "    <tr>\n",
       "      <th>18</th>\n",
       "      <td>32</td>\n",
       "      <td>Chelsea FC</td>\n",
       "      <td>515000000</td>\n",
       "    </tr>\n",
       "    <tr>\n",
       "      <th>19</th>\n",
       "      <td>64</td>\n",
       "      <td>West Ham United FC</td>\n",
       "      <td>209400000</td>\n",
       "    </tr>\n",
       "  </tbody>\n",
       "</table>\n",
       "</div>"
      ],
      "text/plain": [
       "    missedGoals                     name  squadMarketValue\n",
       "0            71             Hull City FC         122250000\n",
       "1            69        Leicester City FC         205300000\n",
       "2            51           Southampton FC         230500000\n",
       "3            55               Watford FC         127250000\n",
       "4            47         Middlesbrough FC          99500000\n",
       "5            52            Stoke City FC         168250000\n",
       "6            39               Everton FC         249100000\n",
       "7            35     Tottenham Hotspur FC         429000000\n",
       "8            58        Crystal Palace FC         186500000\n",
       "9            44  West Bromwich Albion FC          98600000\n",
       "10           50               Burnley FC          85000000\n",
       "11           70          Swansea City FC         127600000\n",
       "12           52       Manchester City FC         525250000\n",
       "13           61           Sunderland AFC         102000000\n",
       "14           66          AFC Bournemouth         106000000\n",
       "15           26     Manchester United FC         466000000\n",
       "16           57               Arsenal FC         492500000\n",
       "17           44             Liverpool FC         372200000\n",
       "18           32               Chelsea FC         515000000\n",
       "19           64       West Ham United FC         209400000"
      ]
     },
     "execution_count": 241,
     "metadata": {},
     "output_type": "execute_result"
    }
   ],
   "source": [
    "teams_pd = pd.DataFrame(team_for_pd)\n",
    "teams_pd"
   ]
  },
  {
   "cell_type": "code",
   "execution_count": 242,
   "metadata": {
    "collapsed": false
   },
   "outputs": [
    {
     "data": {
      "text/html": [
       "<div>\n",
       "<table border=\"1\" class=\"dataframe\">\n",
       "  <thead>\n",
       "    <tr style=\"text-align: right;\">\n",
       "      <th></th>\n",
       "      <th>missedGoals</th>\n",
       "      <th>squadMarketValue</th>\n",
       "    </tr>\n",
       "  </thead>\n",
       "  <tbody>\n",
       "    <tr>\n",
       "      <th>0</th>\n",
       "      <td>71</td>\n",
       "      <td>122250000</td>\n",
       "    </tr>\n",
       "    <tr>\n",
       "      <th>1</th>\n",
       "      <td>69</td>\n",
       "      <td>205300000</td>\n",
       "    </tr>\n",
       "    <tr>\n",
       "      <th>2</th>\n",
       "      <td>51</td>\n",
       "      <td>230500000</td>\n",
       "    </tr>\n",
       "    <tr>\n",
       "      <th>3</th>\n",
       "      <td>55</td>\n",
       "      <td>127250000</td>\n",
       "    </tr>\n",
       "    <tr>\n",
       "      <th>4</th>\n",
       "      <td>47</td>\n",
       "      <td>99500000</td>\n",
       "    </tr>\n",
       "    <tr>\n",
       "      <th>5</th>\n",
       "      <td>52</td>\n",
       "      <td>168250000</td>\n",
       "    </tr>\n",
       "    <tr>\n",
       "      <th>6</th>\n",
       "      <td>39</td>\n",
       "      <td>249100000</td>\n",
       "    </tr>\n",
       "    <tr>\n",
       "      <th>7</th>\n",
       "      <td>35</td>\n",
       "      <td>429000000</td>\n",
       "    </tr>\n",
       "    <tr>\n",
       "      <th>8</th>\n",
       "      <td>58</td>\n",
       "      <td>186500000</td>\n",
       "    </tr>\n",
       "    <tr>\n",
       "      <th>9</th>\n",
       "      <td>44</td>\n",
       "      <td>98600000</td>\n",
       "    </tr>\n",
       "    <tr>\n",
       "      <th>10</th>\n",
       "      <td>50</td>\n",
       "      <td>85000000</td>\n",
       "    </tr>\n",
       "    <tr>\n",
       "      <th>11</th>\n",
       "      <td>70</td>\n",
       "      <td>127600000</td>\n",
       "    </tr>\n",
       "    <tr>\n",
       "      <th>12</th>\n",
       "      <td>52</td>\n",
       "      <td>525250000</td>\n",
       "    </tr>\n",
       "    <tr>\n",
       "      <th>13</th>\n",
       "      <td>61</td>\n",
       "      <td>102000000</td>\n",
       "    </tr>\n",
       "    <tr>\n",
       "      <th>14</th>\n",
       "      <td>66</td>\n",
       "      <td>106000000</td>\n",
       "    </tr>\n",
       "    <tr>\n",
       "      <th>15</th>\n",
       "      <td>26</td>\n",
       "      <td>466000000</td>\n",
       "    </tr>\n",
       "    <tr>\n",
       "      <th>16</th>\n",
       "      <td>57</td>\n",
       "      <td>492500000</td>\n",
       "    </tr>\n",
       "    <tr>\n",
       "      <th>17</th>\n",
       "      <td>44</td>\n",
       "      <td>372200000</td>\n",
       "    </tr>\n",
       "    <tr>\n",
       "      <th>18</th>\n",
       "      <td>32</td>\n",
       "      <td>515000000</td>\n",
       "    </tr>\n",
       "    <tr>\n",
       "      <th>19</th>\n",
       "      <td>64</td>\n",
       "      <td>209400000</td>\n",
       "    </tr>\n",
       "  </tbody>\n",
       "</table>\n",
       "</div>"
      ],
      "text/plain": [
       "    missedGoals  squadMarketValue\n",
       "0            71         122250000\n",
       "1            69         205300000\n",
       "2            51         230500000\n",
       "3            55         127250000\n",
       "4            47          99500000\n",
       "5            52         168250000\n",
       "6            39         249100000\n",
       "7            35         429000000\n",
       "8            58         186500000\n",
       "9            44          98600000\n",
       "10           50          85000000\n",
       "11           70         127600000\n",
       "12           52         525250000\n",
       "13           61         102000000\n",
       "14           66         106000000\n",
       "15           26         466000000\n",
       "16           57         492500000\n",
       "17           44         372200000\n",
       "18           32         515000000\n",
       "19           64         209400000"
      ]
     },
     "execution_count": 242,
     "metadata": {},
     "output_type": "execute_result"
    }
   ],
   "source": [
    "del teams_pd['name']\n",
    "teams_pd"
   ]
  },
  {
   "cell_type": "code",
   "execution_count": 243,
   "metadata": {
    "collapsed": false
   },
   "outputs": [
    {
     "data": {
      "text/plain": [
       "array([[ 5.65154266,  0.79357165],\n",
       "       [ 5.49234427,  1.33268107],\n",
       "       [ 4.05955881,  1.49626393],\n",
       "       [ 4.37795558,  0.82602857],\n",
       "       [ 3.74116204,  0.64589267],\n",
       "       [ 4.139158  ,  1.0921753 ],\n",
       "       [ 3.1043685 ,  1.61700367],\n",
       "       [ 2.78597173,  2.78480359],\n",
       "       [ 4.61675316,  1.21064305],\n",
       "       [ 3.50236446,  0.64005043],\n",
       "       [ 3.97995962,  0.55176761],\n",
       "       [ 5.57194347,  0.82830056],\n",
       "       [ 4.139158  ,  3.40959927],\n",
       "       [ 4.85555073,  0.66212113],\n",
       "       [ 5.2535467 ,  0.68808667],\n",
       "       [ 2.069579  ,  3.02498479],\n",
       "       [ 4.53715397,  3.19700645],\n",
       "       [ 3.50236446,  2.416093  ],\n",
       "       [ 2.54717416,  3.34306259],\n",
       "       [ 5.09434831,  1.35929574]])"
      ]
     },
     "execution_count": 243,
     "metadata": {},
     "output_type": "execute_result"
    }
   ],
   "source": [
    "whitened = whiten(teams_pd.as_matrix())\n",
    "whitened"
   ]
  },
  {
   "cell_type": "code",
   "execution_count": 244,
   "metadata": {
    "collapsed": false
   },
   "outputs": [
    {
     "data": {
      "text/plain": [
       "(array([[ 3.26356689,  3.02925828],\n",
       "        [ 3.84350386,  0.98131174],\n",
       "        [ 5.21943276,  0.98209998]]),\n",
       " array([2, 2, 1, 1, 1, 1, 1, 0, 2, 1, 1, 2, 0, 2, 2, 0, 0, 0, 0, 2], dtype=int32))"
      ]
     },
     "execution_count": 244,
     "metadata": {},
     "output_type": "execute_result"
    }
   ],
   "source": [
    "centroids, cluster_map = kmeans2(whitened, 3)\n",
    "centroids, cluster_map"
   ]
  },
  {
   "cell_type": "code",
   "execution_count": 245,
   "metadata": {
    "collapsed": false
   },
   "outputs": [
    {
     "data": {
      "text/plain": [
       "['b',\n",
       " 'b',\n",
       " 'g',\n",
       " 'g',\n",
       " 'g',\n",
       " 'g',\n",
       " 'g',\n",
       " 'r',\n",
       " 'b',\n",
       " 'g',\n",
       " 'g',\n",
       " 'b',\n",
       " 'r',\n",
       " 'b',\n",
       " 'b',\n",
       " 'r',\n",
       " 'r',\n",
       " 'r',\n",
       " 'r',\n",
       " 'b']"
      ]
     },
     "execution_count": 245,
     "metadata": {},
     "output_type": "execute_result"
    }
   ],
   "source": [
    "colors_map = {0: 'r', 1: 'g', 2: 'b', 3: 'y', 4: 'm'}\n",
    "colors = [colors_map[c] for c in cluster_map]\n",
    "colors"
   ]
  },
  {
   "cell_type": "code",
   "execution_count": 246,
   "metadata": {
    "collapsed": false
   },
   "outputs": [
    {
     "data": {
      "text/plain": [
       "<matplotlib.axes._subplots.AxesSubplot at 0x11a2258d0>"
      ]
     },
     "execution_count": 246,
     "metadata": {},
     "output_type": "execute_result"
    },
    {
     "data": {
      "image/png": "[encoded data removed]",
      "text/plain": [
       "<matplotlib.figure.Figure at 0x11a219438>"
      ]
     },
     "metadata": {},
     "output_type": "display_data"
    }
   ],
   "source": [
    "teams_pd.plot.scatter(x='squadMarketValue', y='missedGoals', c=colors, s=100)"
   ]
  },
  {
   "cell_type": "code",
   "execution_count": 247,
   "metadata": {
    "collapsed": false
   },
   "outputs": [
    {
     "data": {
      "text/plain": [
       "(array([[ 4.61675316,  0.89959759],\n",
       "        [ 5.41274508,  1.00038714],\n",
       "        [ 3.84066103,  0.7324715 ],\n",
       "        [ 3.26356689,  3.02925828],\n",
       "        [ 3.58196366,  1.5566338 ]]),\n",
       " array([1, 1, 4, 0, 2, 2, 4, 3, 0, 2, 2, 1, 3, 0, 1, 3, 3, 3, 3, 1], dtype=int32))"
      ]
     },
     "execution_count": 247,
     "metadata": {},
     "output_type": "execute_result"
    }
   ],
   "source": [
    "centroids, cluster_map = kmeans2(whitened, 5)\n",
    "centroids, cluster_map"
   ]
  },
  {
   "cell_type": "code",
   "execution_count": 248,
   "metadata": {
    "collapsed": false
   },
   "outputs": [
    {
     "data": {
      "text/plain": [
       "['g',\n",
       " 'g',\n",
       " 'm',\n",
       " 'r',\n",
       " 'b',\n",
       " 'b',\n",
       " 'm',\n",
       " 'y',\n",
       " 'r',\n",
       " 'b',\n",
       " 'b',\n",
       " 'g',\n",
       " 'y',\n",
       " 'r',\n",
       " 'g',\n",
       " 'y',\n",
       " 'y',\n",
       " 'y',\n",
       " 'y',\n",
       " 'g']"
      ]
     },
     "execution_count": 248,
     "metadata": {},
     "output_type": "execute_result"
    }
   ],
   "source": [
    "colors_map = {0: 'r', 1: 'g', 2: 'b', 3: 'y', 4: 'm'}\n",
    "colors = [colors_map[c] for c in cluster_map]\n",
    "colors"
   ]
  },
  {
   "cell_type": "code",
   "execution_count": 249,
   "metadata": {
    "collapsed": false
   },
   "outputs": [
    {
     "data": {
      "text/plain": [
       "<matplotlib.axes._subplots.AxesSubplot at 0x11a44b898>"
      ]
     },
     "execution_count": 249,
     "metadata": {},
     "output_type": "execute_result"
    },
    {
     "data": {
      "image/png": "[encoded data removed]",
      "text/plain": [
       "<matplotlib.figure.Figure at 0x11a219978>"
      ]
     },
     "metadata": {},
     "output_type": "display_data"
    }
   ],
   "source": [
    "teams_pd.plot.scatter(x='squadMarketValue', y='missedGoals', c=colors, s=100)"
   ]
  },
  {
   "cell_type": "code",
   "execution_count": null,
   "metadata": {
    "collapsed": true
   },
   "outputs": [],
   "source": []
  }
 ],
 "metadata": {
  "kernelspec": {
   "display_name": "Python 3",
   "language": "python",
   "name": "python3"
  },
  "language_info": {
   "codemirror_mode": {
    "name": "ipython",
    "version": 3
   },
   "file_extension": ".py",
   "mimetype": "text/x-python",
   "name": "python",
   "nbconvert_exporter": "python",
   "pygments_lexer": "ipython3",
   "version": "3.6.0"
  }
 },
 "nbformat": 4,
 "nbformat_minor": 2
}
