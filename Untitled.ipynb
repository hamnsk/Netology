{
 "cells": [
  {
   "cell_type": "code",
   "execution_count": 1,
   "metadata": {
    "collapsed": true
   },
   "outputs": [],
   "source": [
    "import pandas as pd\n",
    "import os.path"
   ]
  },
  {
   "cell_type": "code",
   "execution_count": 153,
   "metadata": {
    "collapsed": true
   },
   "outputs": [],
   "source": [
    "BASE_DIR = \"/Users/sandrynin/development/projects/Netology/Python/OpenData/names\""
   ]
  },
  {
   "cell_type": "code",
   "execution_count": 449,
   "metadata": {
    "collapsed": false
   },
   "outputs": [],
   "source": [
    "def top_names(years_list):\n",
    "    data = {}\n",
    "    for year in years_list:\n",
    "        file = os.path.join(BASE_DIR, 'yob{}.txt'.format(year))\n",
    "        data[year] = pd.read_csv(file, names=['Name', 'Gender', 'Count'])\n",
    "    merged = pd.concat(data, names=['Year', 'Pos'])\n",
    "    merged = merged.groupby(['Name']).sum()\n",
    "    return merged.sort_values(by='Count', ascending=False).head(3)"
   ]
  },
  {
   "cell_type": "code",
   "execution_count": 450,
   "metadata": {
    "collapsed": false
   },
   "outputs": [
    {
     "data": {
      "text/html": [
       "<div>\n",
       "<table border=\"1\" class=\"dataframe\">\n",
       "  <thead>\n",
       "    <tr style=\"text-align: right;\">\n",
       "      <th></th>\n",
       "      <th>Count</th>\n",
       "    </tr>\n",
       "    <tr>\n",
       "      <th>Name</th>\n",
       "      <th></th>\n",
       "    </tr>\n",
       "  </thead>\n",
       "  <tbody>\n",
       "    <tr>\n",
       "      <th>James</th>\n",
       "      <td>111822</td>\n",
       "    </tr>\n",
       "    <tr>\n",
       "      <th>John</th>\n",
       "      <td>109613</td>\n",
       "    </tr>\n",
       "    <tr>\n",
       "      <th>Robert</th>\n",
       "      <td>101396</td>\n",
       "    </tr>\n",
       "  </tbody>\n",
       "</table>\n",
       "</div>"
      ],
      "text/plain": [
       "         Count\n",
       "Name          \n",
       "James   111822\n",
       "John    109613\n",
       "Robert  101396"
      ]
     },
     "execution_count": 450,
     "metadata": {},
     "output_type": "execute_result"
    }
   ],
   "source": [
    "top_names([1900, 1950, 2000])"
   ]
  },
  {
   "cell_type": "code",
   "execution_count": 459,
   "metadata": {
    "collapsed": true
   },
   "outputs": [],
   "source": [
    "def dynamics(year_list):\n",
    "    female = []\n",
    "    male = []\n",
    "    for year in year_list:\n",
    "        file = os.path.join(BASE_DIR, 'yob{}.txt'.format(year))\n",
    "        data = pd.read_csv(file, names=['Name', 'Gender', 'Count'])\n",
    "        male.append(data[data.Gender=='M'].Count.sum())\n",
    "        female.append(data[data.Gender=='F'].Count.sum())\n",
    "    return male, female\n",
    "        "
   ]
  },
  {
   "cell_type": "code",
   "execution_count": 460,
   "metadata": {
    "collapsed": false
   },
   "outputs": [
    {
     "name": "stdout",
     "output_type": "stream",
     "text": [
      "F: [299822, 1713450, 1814738]\n",
      "M: [150490, 1791474, 1962556]\n"
     ]
    }
   ],
   "source": [
    "male, female = dynamics([1900, 1950, 2000])\n",
    "print('F:', female)\n",
    "print('M:', male)"
   ]
  },
  {
   "cell_type": "code",
   "execution_count": 436,
   "metadata": {
    "collapsed": true
   },
   "outputs": [],
   "source": [
    "def df_generator(years_list):\n",
    "    for year in years_list:\n",
    "        file = os.path.join(BASE_DIR, 'yob{}.txt'.format(year))\n",
    "        yield pd.read_csv(file, names=['Name', 'Gender', 'Count'])"
   ]
  },
  {
   "cell_type": "code",
   "execution_count": 456,
   "metadata": {
    "collapsed": false,
    "scrolled": true
   },
   "outputs": [
    {
     "data": {
      "text/html": [
       "<div>\n",
       "<table border=\"1\" class=\"dataframe\">\n",
       "  <thead>\n",
       "    <tr style=\"text-align: right;\">\n",
       "      <th></th>\n",
       "      <th>Count</th>\n",
       "    </tr>\n",
       "    <tr>\n",
       "      <th>Name</th>\n",
       "      <th></th>\n",
       "    </tr>\n",
       "  </thead>\n",
       "  <tbody>\n",
       "    <tr>\n",
       "      <th>James</th>\n",
       "      <td>111822</td>\n",
       "    </tr>\n",
       "    <tr>\n",
       "      <th>John</th>\n",
       "      <td>109613</td>\n",
       "    </tr>\n",
       "    <tr>\n",
       "      <th>Robert</th>\n",
       "      <td>101396</td>\n",
       "    </tr>\n",
       "  </tbody>\n",
       "</table>\n",
       "</div>"
      ],
      "text/plain": [
       "         Count\n",
       "Name          \n",
       "James   111822\n",
       "John    109613\n",
       "Robert  101396"
      ]
     },
     "execution_count": 456,
     "metadata": {},
     "output_type": "execute_result"
    }
   ],
   "source": [
    "res = pd.concat(df_generator([1900, 1950, 2000]))\n",
    "# out = res.pivot_table(['Count'],['Name'], aggfunc='sum', fill_value = 0).sort_values(by='Count', ascending=False).head(3)\n",
    "res.groupby(['Name']).sum().sort_values(by='Count', ascending=False).head(3)"
   ]
  },
  {
   "cell_type": "code",
   "execution_count": null,
   "metadata": {
    "collapsed": true
   },
   "outputs": [],
   "source": []
  }
 ],
 "metadata": {
  "kernelspec": {
   "display_name": "Python 3",
   "language": "python",
   "name": "python3"
  },
  "language_info": {
   "codemirror_mode": {
    "name": "ipython",
    "version": 3
   },
   "file_extension": ".py",
   "mimetype": "text/x-python",
   "name": "python",
   "nbconvert_exporter": "python",
   "pygments_lexer": "ipython3",
   "version": "3.6.0"
  }
 },
 "nbformat": 4,
 "nbformat_minor": 2
}
