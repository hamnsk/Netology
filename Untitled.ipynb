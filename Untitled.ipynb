{
 "cells": [
  {
   "cell_type": "code",
   "execution_count": 463,
   "metadata": {
    "collapsed": true
   },
   "outputs": [],
   "source": [
    "import pandas as pd\n",
    "import os.path"
   ]
  },
  {
   "cell_type": "code",
   "execution_count": 464,
   "metadata": {
    "collapsed": true
   },
   "outputs": [],
   "source": [
    "BASE_DIR = \"/Users/sandrynin/development/projects/Netology/Python/OpenData/names\""
   ]
  },
  {
   "cell_type": "code",
   "execution_count": 626,
   "metadata": {
    "collapsed": false
   },
   "outputs": [],
   "source": [
    "def top_names(years_list):\n",
    "    data = {}\n",
    "    for year in years_list:\n",
    "        file = os.path.join(BASE_DIR, 'yob{}.txt'.format(year))\n",
    "        data[year] = pd.read_csv(file, names=['Name', 'Gender', 'Count'])\n",
    "    merged = pd.concat(data, names=['Year', 'Pos'])\n",
    "    merged = merged.groupby(['Name']).sum()\n",
    "    return merged.sort_values(by='Count', ascending=False).head(3)"
   ]
  },
  {
   "cell_type": "code",
   "execution_count": 638,
   "metadata": {
    "collapsed": false
   },
   "outputs": [
    {
     "name": "stdout",
     "output_type": "stream",
     "text": [
      "['James', 'John', 'Robert']\n"
     ]
    }
   ],
   "source": [
    "res = top_names([1900, 1950, 2000]).reset_index()\n",
    "res = list(res['Name'])\n",
    "print(res)"
   ]
  },
  {
   "cell_type": "code",
   "execution_count": 467,
   "metadata": {
    "collapsed": true
   },
   "outputs": [],
   "source": [
    "def dynamics(year_list):\n",
    "    female = []\n",
    "    male = []\n",
    "    for year in year_list:\n",
    "        file = os.path.join(BASE_DIR, 'yob{}.txt'.format(year))\n",
    "        data = pd.read_csv(file, names=['Name', 'Gender', 'Count'])\n",
    "        male.append(data[data.Gender=='M'].Count.sum())\n",
    "        female.append(data[data.Gender=='F'].Count.sum())\n",
    "    return male, female\n",
    "        "
   ]
  },
  {
   "cell_type": "code",
   "execution_count": 468,
   "metadata": {
    "collapsed": false
   },
   "outputs": [
    {
     "name": "stdout",
     "output_type": "stream",
     "text": [
      "F: [299822, 1713450, 1814738]\n",
      "M: [150490, 1791474, 1962556]\n"
     ]
    }
   ],
   "source": [
    "male, female = dynamics([1900, 1950, 2000])\n",
    "print('F:', female)\n",
    "print('M:', male)"
   ]
  },
  {
   "cell_type": "code",
   "execution_count": 469,
   "metadata": {
    "collapsed": true
   },
   "outputs": [],
   "source": [
    "def df_generator(years_list):\n",
    "    for year in years_list:\n",
    "        file = os.path.join(BASE_DIR, 'yob{}.txt'.format(year))\n",
    "        yield pd.read_csv(file, names=['Name', 'Gender', 'Count'])"
   ]
  },
  {
   "cell_type": "code",
   "execution_count": 493,
   "metadata": {
    "collapsed": false,
    "scrolled": true
   },
   "outputs": [
    {
     "data": {
      "text/html": [
       "<div>\n",
       "<table border=\"1\" class=\"dataframe\">\n",
       "  <thead>\n",
       "    <tr style=\"text-align: right;\">\n",
       "      <th></th>\n",
       "      <th>Count</th>\n",
       "    </tr>\n",
       "    <tr>\n",
       "      <th>Name</th>\n",
       "      <th></th>\n",
       "    </tr>\n",
       "  </thead>\n",
       "  <tbody>\n",
       "    <tr>\n",
       "      <th>James</th>\n",
       "      <td>111822</td>\n",
       "    </tr>\n",
       "    <tr>\n",
       "      <th>John</th>\n",
       "      <td>109613</td>\n",
       "    </tr>\n",
       "    <tr>\n",
       "      <th>Robert</th>\n",
       "      <td>101396</td>\n",
       "    </tr>\n",
       "  </tbody>\n",
       "</table>\n",
       "</div>"
      ],
      "text/plain": [
       "         Count\n",
       "Name          \n",
       "James   111822\n",
       "John    109613\n",
       "Robert  101396"
      ]
     },
     "execution_count": 493,
     "metadata": {},
     "output_type": "execute_result"
    }
   ],
   "source": [
    "res = pd.concat(df_generator([1900, 1950, 2000]))\n",
    "# out = res.pivot_table(['Count'],['Name'], aggfunc='sum', fill_value = 0).sort_values(by='Count', ascending=False).head(3)\n",
    "res.groupby(['Name']).sum().sort_values(by='Count', ascending=False).head(3)"
   ]
  },
  {
   "cell_type": "code",
   "execution_count": 613,
   "metadata": {
    "collapsed": false
   },
   "outputs": [],
   "source": [
    "def merged_count(years_list):\n",
    "    merged = pd.DataFrame()\n",
    "    for year in years_list:\n",
    "        file = os.path.join(BASE_DIR, 'yob{}.txt'.format(year))\n",
    "        data = pd.read_csv(file, names=['Name', 'Gender', 'Count'])\n",
    "        if merged.empty:\n",
    "            merged = data\n",
    "        else:\n",
    "            merged = pd.merge(merged, data, on=['Name', 'Gender'])\n",
    "#             merged.apply(agg_count, axis=1)\n",
    "    return merged"
   ]
  },
  {
   "cell_type": "code",
   "execution_count": 614,
   "metadata": {
    "collapsed": false
   },
   "outputs": [],
   "source": [
    "def agg_count(row):\n",
    "    print(row)\n",
    "    row.Count = row.Count_x + row.Count_y\n",
    "    return row"
   ]
  },
  {
   "cell_type": "code",
   "execution_count": 615,
   "metadata": {
    "collapsed": false
   },
   "outputs": [
    {
     "data": {
      "text/html": [
       "<div>\n",
       "<table border=\"1\" class=\"dataframe\">\n",
       "  <thead>\n",
       "    <tr style=\"text-align: right;\">\n",
       "      <th></th>\n",
       "      <th>Name</th>\n",
       "      <th>Gender</th>\n",
       "      <th>Count_x</th>\n",
       "      <th>Count_y</th>\n",
       "    </tr>\n",
       "  </thead>\n",
       "  <tbody>\n",
       "    <tr>\n",
       "      <th>0</th>\n",
       "      <td>Mary</td>\n",
       "      <td>F</td>\n",
       "      <td>16707</td>\n",
       "      <td>65485</td>\n",
       "    </tr>\n",
       "    <tr>\n",
       "      <th>1</th>\n",
       "      <td>Helen</td>\n",
       "      <td>F</td>\n",
       "      <td>6343</td>\n",
       "      <td>7060</td>\n",
       "    </tr>\n",
       "    <tr>\n",
       "      <th>2</th>\n",
       "      <td>Anna</td>\n",
       "      <td>F</td>\n",
       "      <td>6114</td>\n",
       "      <td>3817</td>\n",
       "    </tr>\n",
       "    <tr>\n",
       "      <th>3</th>\n",
       "      <td>Margaret</td>\n",
       "      <td>F</td>\n",
       "      <td>5304</td>\n",
       "      <td>18107</td>\n",
       "    </tr>\n",
       "    <tr>\n",
       "      <th>4</th>\n",
       "      <td>Ruth</td>\n",
       "      <td>F</td>\n",
       "      <td>4765</td>\n",
       "      <td>7126</td>\n",
       "    </tr>\n",
       "    <tr>\n",
       "      <th>5</th>\n",
       "      <td>Elizabeth</td>\n",
       "      <td>F</td>\n",
       "      <td>4096</td>\n",
       "      <td>14339</td>\n",
       "    </tr>\n",
       "    <tr>\n",
       "      <th>6</th>\n",
       "      <td>Florence</td>\n",
       "      <td>F</td>\n",
       "      <td>3920</td>\n",
       "      <td>1446</td>\n",
       "    </tr>\n",
       "    <tr>\n",
       "      <th>7</th>\n",
       "      <td>Ethel</td>\n",
       "      <td>F</td>\n",
       "      <td>3896</td>\n",
       "      <td>1603</td>\n",
       "    </tr>\n",
       "    <tr>\n",
       "      <th>8</th>\n",
       "      <td>Marie</td>\n",
       "      <td>F</td>\n",
       "      <td>3856</td>\n",
       "      <td>5223</td>\n",
       "    </tr>\n",
       "    <tr>\n",
       "      <th>9</th>\n",
       "      <td>Lillian</td>\n",
       "      <td>F</td>\n",
       "      <td>3414</td>\n",
       "      <td>1887</td>\n",
       "    </tr>\n",
       "  </tbody>\n",
       "</table>\n",
       "</div>"
      ],
      "text/plain": [
       "        Name Gender  Count_x  Count_y\n",
       "0       Mary      F    16707    65485\n",
       "1      Helen      F     6343     7060\n",
       "2       Anna      F     6114     3817\n",
       "3   Margaret      F     5304    18107\n",
       "4       Ruth      F     4765     7126\n",
       "5  Elizabeth      F     4096    14339\n",
       "6   Florence      F     3920     1446\n",
       "7      Ethel      F     3896     1603\n",
       "8      Marie      F     3856     5223\n",
       "9    Lillian      F     3414     1887"
      ]
     },
     "execution_count": 615,
     "metadata": {},
     "output_type": "execute_result"
    }
   ],
   "source": [
    "merged_count([1900, 1950]).head(10)"
   ]
  },
  {
   "cell_type": "code",
   "execution_count": null,
   "metadata": {
    "collapsed": true
   },
   "outputs": [],
   "source": []
  }
 ],
 "metadata": {
  "kernelspec": {
   "display_name": "Python 3",
   "language": "python",
   "name": "python3"
  },
  "language_info": {
   "codemirror_mode": {
    "name": "ipython",
    "version": 3
   },
   "file_extension": ".py",
   "mimetype": "text/x-python",
   "name": "python",
   "nbconvert_exporter": "python",
   "pygments_lexer": "ipython3",
   "version": "3.6.0"
  }
 },
 "nbformat": 4,
 "nbformat_minor": 2
}
