{
 "cells": [
  {
   "cell_type": "code",
   "execution_count": 2,
   "metadata": {
    "collapsed": true
   },
   "outputs": [],
   "source": [
    "import pandas as pd\n",
    "import os.path"
   ]
  },
  {
   "cell_type": "code",
   "execution_count": 3,
   "metadata": {
    "collapsed": true
   },
   "outputs": [],
   "source": [
    "BASE_DIR = \"/Users/sandrynin/development/projects/Netology/Python/OpenData/names\""
   ]
  },
  {
   "cell_type": "code",
   "execution_count": 13,
   "metadata": {
    "collapsed": true
   },
   "outputs": [],
   "source": [
    "def dynamics(year_list):\n",
    "    result = {}\n",
    "    male = []\n",
    "    female = []\n",
    "    for year in year_list:\n",
    "        file = os.path.join(BASE_DIR, 'yob{}.txt'.format(year))\n",
    "        data = pd.read_csv(file, names=['Name', 'Gender', 'Count'])\n",
    "        male.append(data[data.Gender=='M'].Count.sum())\n",
    "        female.append(data[data.Gender=='F'].Count.sum())\n",
    "    result['M'] = male\n",
    "    result['F'] = female\n",
    "    return result"
   ]
  },
  {
   "cell_type": "code",
   "execution_count": 15,
   "metadata": {
    "collapsed": false
   },
   "outputs": [
    {
     "data": {
      "text/plain": [
       "{'F': [299822, 1713450, 1814738], 'M': [150490, 1791474, 1962556]}"
      ]
     },
     "execution_count": 15,
     "metadata": {},
     "output_type": "execute_result"
    }
   ],
   "source": [
    "dynamics([1900, 1950, 2000])"
   ]
  },
  {
   "cell_type": "code",
   "execution_count": 6,
   "metadata": {
    "collapsed": true
   },
   "outputs": [],
   "source": [
    "def df_generator(years_list):\n",
    "    for year in years_list:\n",
    "        file = os.path.join(BASE_DIR, 'yob{}.txt'.format(year))\n",
    "        yield pd.read_csv(file, names=['Name', 'Gender', 'Count'])"
   ]
  },
  {
   "cell_type": "code",
   "execution_count": 16,
   "metadata": {
    "collapsed": false
   },
   "outputs": [
    {
     "name": "stdout",
     "output_type": "stream",
     "text": [
      "['James', 'John', 'Robert']\n"
     ]
    }
   ],
   "source": [
    "res = pd.concat(df_generator([1900, 1950, 2000]))\n",
    "res = res.groupby(['Name']).sum().sort_values(by='Count', ascending=False).head(3).reset_index()\n",
    "res = list(res['Name'])\n",
    "print(res)"
   ]
  },
  {
   "cell_type": "code",
   "execution_count": null,
   "metadata": {
    "collapsed": true
   },
   "outputs": [],
   "source": []
  }
 ],
 "metadata": {
  "kernelspec": {
   "display_name": "Python 3",
   "language": "python",
   "name": "python3"
  },
  "language_info": {
   "codemirror_mode": {
    "name": "ipython",
    "version": 3
   },
   "file_extension": ".py",
   "mimetype": "text/x-python",
   "name": "python",
   "nbconvert_exporter": "python",
   "pygments_lexer": "ipython3",
   "version": "3.6.0"
  }
 },
 "nbformat": 4,
 "nbformat_minor": 2
}
